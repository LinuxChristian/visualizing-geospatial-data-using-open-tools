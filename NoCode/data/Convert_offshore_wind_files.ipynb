{
 "cells": [
  {
   "cell_type": "markdown",
   "id": "e5e6ff12-efc6-42ea-a73f-6f8e1dcb0741",
   "metadata": {},
   "source": [
    "# Purpose\n",
    "\n",
    "- Converts the geospatial data within `stamdata_2022.xlsx` from `UTM 32N` to `Lat/Lng`.\n",
    "- Convert the `.gpkg` file to csv.\n",
    "\n",
    "### Input files\n",
    "\n",
    "TODO\n",
    "\n",
    "### Outputs files\n",
    "- `wind_turbines.csv`\n",
    "- `wind_parks.json`"
   ]
  },
  {
   "cell_type": "code",
   "execution_count": 70,
   "id": "49d37ec8-6131-4705-9961-f09789d73a2d",
   "metadata": {},
   "outputs": [],
   "source": [
    "# File processing libraries\n",
    "import zipfile\n",
    "import pathlib\n",
    "    \n",
    "# Data processing libraries\n",
    "import pandas as pd\n",
    "\n",
    "# Geospatial libraries\n",
    "import geopandas as gpd\n",
    "import shapely\n",
    "import pyproj\n",
    "#import utm\n",
    "\n",
    "# Network libraries\n",
    "from urllib.request import urlretrieve"
   ]
  },
  {
   "cell_type": "code",
   "execution_count": 77,
   "id": "9e1933ca",
   "metadata": {},
   "outputs": [],
   "source": [
    "wind_master_data_location = \"https://ens.dk/sites/ens.dk/files/Analyser/stamdata_eksisterende_moeller_2023_01_etrs1989_utm32n.zip\"\n",
    "wind_master_data_filename = \"stamdata_eksisterende_moeller_2023_01_etrs1989_utm32n.zip\"\n",
    "wind_master_data_folder = wind_master_data_filename.split('.')[0]\n",
    "\n",
    "if not pathlib.Path(wind_master_data_filename).exists():\n",
    "    # Download file\n",
    "    urlretrieve(wind_master_data_location, wind_master_data_filename)\n",
    "    \n",
    "    # Extract file\n",
    "    with zipfile.ZipFile(wind_master_data_filename, 'r') as zip_ref:\n",
    "        zip_ref.extractall('.')"
   ]
  },
  {
   "cell_type": "code",
   "execution_count": 91,
   "id": "dc2114b1",
   "metadata": {},
   "outputs": [],
   "source": [
    "# Load data\n",
    "turbines = gpd.read_file(wind_master_data_folder)"
   ]
  },
  {
   "cell_type": "code",
   "execution_count": 92,
   "id": "58ba0e93",
   "metadata": {},
   "outputs": [],
   "source": [
    "# Convert geometry from UTM 32N to Lat/Lng\n",
    "wgs84 = pyproj.CRS('EPSG:4326')\n",
    "utm = pyproj.CRS('EPSG:25832')\n",
    "project = pyproj.Transformer.from_crs(utm, wgs84, always_xy=True).transform\n",
    "new_geo = turbines.apply(lambda row: shapely.ops.transform(project, row.geometry), axis=1)"
   ]
  },
  {
   "cell_type": "code",
   "execution_count": 121,
   "id": "6f87ddf5",
   "metadata": {},
   "outputs": [
    {
     "data": {
      "text/html": [
       "<div>\n",
       "<style scoped>\n",
       "    .dataframe tbody tr th:only-of-type {\n",
       "        vertical-align: middle;\n",
       "    }\n",
       "\n",
       "    .dataframe tbody tr th {\n",
       "        vertical-align: top;\n",
       "    }\n",
       "\n",
       "    .dataframe thead th {\n",
       "        text-align: right;\n",
       "    }\n",
       "</style>\n",
       "<table border=\"1\" class=\"dataframe\">\n",
       "  <thead>\n",
       "    <tr style=\"text-align: right;\">\n",
       "      <th></th>\n",
       "      <th>Y1977</th>\n",
       "      <th>Y1978</th>\n",
       "      <th>Y1979</th>\n",
       "    </tr>\n",
       "  </thead>\n",
       "  <tbody>\n",
       "    <tr>\n",
       "      <th>0</th>\n",
       "      <td>0.0</td>\n",
       "      <td>0</td>\n",
       "      <td>0</td>\n",
       "    </tr>\n",
       "    <tr>\n",
       "      <th>1</th>\n",
       "      <td>0.0</td>\n",
       "      <td>0</td>\n",
       "      <td>0</td>\n",
       "    </tr>\n",
       "    <tr>\n",
       "      <th>2</th>\n",
       "      <td>0.0</td>\n",
       "      <td>0</td>\n",
       "      <td>0</td>\n",
       "    </tr>\n",
       "    <tr>\n",
       "      <th>3</th>\n",
       "      <td>0.0</td>\n",
       "      <td>0</td>\n",
       "      <td>0</td>\n",
       "    </tr>\n",
       "    <tr>\n",
       "      <th>4</th>\n",
       "      <td>0.0</td>\n",
       "      <td>0</td>\n",
       "      <td>0</td>\n",
       "    </tr>\n",
       "    <tr>\n",
       "      <th>...</th>\n",
       "      <td>...</td>\n",
       "      <td>...</td>\n",
       "      <td>...</td>\n",
       "    </tr>\n",
       "    <tr>\n",
       "      <th>6145</th>\n",
       "      <td>0.0</td>\n",
       "      <td>0</td>\n",
       "      <td>0</td>\n",
       "    </tr>\n",
       "    <tr>\n",
       "      <th>6146</th>\n",
       "      <td>0.0</td>\n",
       "      <td>0</td>\n",
       "      <td>0</td>\n",
       "    </tr>\n",
       "    <tr>\n",
       "      <th>6147</th>\n",
       "      <td>0.0</td>\n",
       "      <td>0</td>\n",
       "      <td>0</td>\n",
       "    </tr>\n",
       "    <tr>\n",
       "      <th>6148</th>\n",
       "      <td>0.0</td>\n",
       "      <td>0</td>\n",
       "      <td>0</td>\n",
       "    </tr>\n",
       "    <tr>\n",
       "      <th>6149</th>\n",
       "      <td>0.0</td>\n",
       "      <td>0</td>\n",
       "      <td>0</td>\n",
       "    </tr>\n",
       "  </tbody>\n",
       "</table>\n",
       "<p>6150 rows × 3 columns</p>\n",
       "</div>"
      ],
      "text/plain": [
       "      Y1977 Y1978 Y1979\n",
       "0       0.0     0     0\n",
       "1       0.0     0     0\n",
       "2       0.0     0     0\n",
       "3       0.0     0     0\n",
       "4       0.0     0     0\n",
       "...     ...   ...   ...\n",
       "6145    0.0     0     0\n",
       "6146    0.0     0     0\n",
       "6147    0.0     0     0\n",
       "6148    0.0     0     0\n",
       "6149    0.0     0     0\n",
       "\n",
       "[6150 rows x 3 columns]"
      ]
     },
     "execution_count": 121,
     "metadata": {},
     "output_type": "execute_result"
    }
   ],
   "source": [
    "# TODO - Remove?\n",
    "if False:\n",
    "    # Group years into decades\n",
    "    turbines['construction_decade'] = 1900\n",
    "    turbines.fillna(0, inplace=True)\n",
    "\n",
    "    cols = [c for c in turbines.columns if 'Y198' in c]\n",
    "    mask = turbines.loc[:, cols].astype(float).sum()\n",
    "    turbines.loc[mask, 'construction_decade'] = '1970s'"
   ]
  },
  {
   "cell_type": "code",
   "execution_count": 125,
   "id": "b07bfced",
   "metadata": {},
   "outputs": [],
   "source": [
    "# Create new column with lat/lng\n",
    "turbines['lng'] = new_geo.geometry.x\n",
    "turbines['lat'] = new_geo.geometry.y\n",
    "\n",
    "# Remove columns that are not interesting to save disk space\n",
    "turbines = turbines[['GSRN', 'Kapacitet_', 'Rotordiame', 'Navhøjde_', 'Fabrikat', 'Y2022_10', 'Y2022_11', 'Y2022_12', 'lat', 'lng', 'geometry']]"
   ]
  },
  {
   "cell_type": "code",
   "execution_count": 126,
   "id": "b3248ed9",
   "metadata": {},
   "outputs": [],
   "source": [
    "turbines.to_file('turbines.geojson', driver=\"GeoJSON\")  "
   ]
  },
  {
   "cell_type": "code",
   "execution_count": null,
   "id": "e26257c8",
   "metadata": {},
   "outputs": [],
   "source": []
  }
 ],
 "metadata": {
  "kernelspec": {
   "display_name": "Python 3 (ipykernel)",
   "language": "python",
   "name": "python3"
  },
  "language_info": {
   "codemirror_mode": {
    "name": "ipython",
    "version": 3
   },
   "file_extension": ".py",
   "mimetype": "text/x-python",
   "name": "python",
   "nbconvert_exporter": "python",
   "pygments_lexer": "ipython3",
   "version": "3.10.6"
  }
 },
 "nbformat": 4,
 "nbformat_minor": 5
}
