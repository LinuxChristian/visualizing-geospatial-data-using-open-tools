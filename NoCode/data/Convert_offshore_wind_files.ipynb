{
 "cells": [
  {
   "cell_type": "markdown",
   "id": "e5e6ff12-efc6-42ea-a73f-6f8e1dcb0741",
   "metadata": {},
   "source": [
    "# Purpose\n",
    "\n",
    "- Download a dataset with wind turbine locations in Denmark\n",
    "\n",
    "### Input files\n",
    " - None\n",
    "\n",
    "### Outputs files\n",
    "- `turbines.geojson` - Location of all wind turbines in Denmark as EPSG:4326 (Web mercator)\n",
    "- `offshore_turbines.json` - Location of offshore wind turbines in Denmark as EPSG:4326 (Web mercator)"
   ]
  },
  {
   "cell_type": "code",
   "execution_count": 27,
   "id": "49d37ec8-6131-4705-9961-f09789d73a2d",
   "metadata": {},
   "outputs": [],
   "source": [
    "# File processing libraries\n",
    "import zipfile\n",
    "import pathlib\n",
    "    \n",
    "# Data processing libraries\n",
    "import pandas as pd\n",
    "\n",
    "# Geospatial libraries\n",
    "import geopandas as gpd\n",
    "import shapely\n",
    "import pyproj\n",
    "#import utm\n",
    "\n",
    "# Network libraries\n",
    "from urllib.request import urlretrieve"
   ]
  },
  {
   "cell_type": "code",
   "execution_count": 28,
   "id": "9e1933ca",
   "metadata": {},
   "outputs": [],
   "source": [
    "wind_master_data_location = \"https://ens.dk/sites/ens.dk/files/Analyser/stamdata_eksisterende_moeller_2023_01_etrs1989_utm32n.zip\"\n",
    "wind_master_data_filename = \"stamdata_eksisterende_moeller_2023_01_etrs1989_utm32n.zip\"\n",
    "wind_master_data_folder = wind_master_data_filename.split('.')[0]\n",
    "\n",
    "if not pathlib.Path(wind_master_data_filename).exists():\n",
    "    # Download file\n",
    "    urlretrieve(wind_master_data_location, wind_master_data_filename)\n",
    "    \n",
    "    # Extract file\n",
    "    with zipfile.ZipFile(wind_master_data_filename, 'r') as zip_ref:\n",
    "        zip_ref.extractall('.')"
   ]
  },
  {
   "cell_type": "code",
   "execution_count": 29,
   "id": "dc2114b1",
   "metadata": {},
   "outputs": [],
   "source": [
    "# Load data\n",
    "turbines = gpd.read_file(wind_master_data_folder)"
   ]
  },
  {
   "cell_type": "code",
   "execution_count": 30,
   "id": "58ba0e93",
   "metadata": {},
   "outputs": [],
   "source": [
    "# Convert geometry from UTM 32N to Lat/Lng\n",
    "wgs84 = pyproj.CRS('EPSG:4326')\n",
    "utm = pyproj.CRS('EPSG:25832')\n",
    "project = pyproj.Transformer.from_crs(utm, wgs84, always_xy=True).transform\n",
    "new_geo = turbines.apply(lambda row: shapely.ops.transform(project, row.geometry), axis=1)"
   ]
  },
  {
   "cell_type": "code",
   "execution_count": 31,
   "id": "b07bfced",
   "metadata": {},
   "outputs": [],
   "source": [
    "# Create new column with lat/lng\n",
    "turbines['lng'] = new_geo.geometry.x\n",
    "turbines['lat'] = new_geo.geometry.y\n",
    "\n",
    "# Remove columns that are not interesting to save disk space\n",
    "turbines = turbines[['GSRN', 'Kapacitet_', 'Rotordiame', 'Navhøjde_', 'Fabrikat', 'Y2022_10', 'Y2022_11', 'Y2022_12', 'lat', 'lng', 'geometry']]"
   ]
  },
  {
   "cell_type": "code",
   "execution_count": 32,
   "id": "b3248ed9",
   "metadata": {},
   "outputs": [],
   "source": [
    "turbines.to_file('turbines.geojson', driver=\"GeoJSON\")  "
   ]
  },
  {
   "cell_type": "markdown",
   "id": "3395b111",
   "metadata": {},
   "source": [
    "## Extract only offshore turbines"
   ]
  },
  {
   "cell_type": "code",
   "execution_count": 13,
   "id": "a1c473b3",
   "metadata": {},
   "outputs": [],
   "source": [
    "# Get offshore locations\n",
    "geo_sites = gpd.read_file(\"../../NoCode/data/dk_offshore_sites.geojson\")"
   ]
  },
  {
   "cell_type": "code",
   "execution_count": 20,
   "id": "eaba858d",
   "metadata": {},
   "outputs": [],
   "source": [
    "# Perform spatial join to only turbines within area\n",
    "offshore_turbines = geo_sites.sjoin(turbines.to_crs(\"EPSG:4326\"), how='left')"
   ]
  },
  {
   "cell_type": "code",
   "execution_count": 26,
   "id": "2f460426",
   "metadata": {},
   "outputs": [],
   "source": [
    "# Also export as csv\n",
    "offshore_turbines[['Kapacitet_', 'Rotordiame', 'Navhøjde_', 'lat', 'lng']].to_json('offshore_turbines.json', orient='records')"
   ]
  },
  {
   "cell_type": "code",
   "execution_count": null,
   "id": "8cbda1ab",
   "metadata": {},
   "outputs": [],
   "source": []
  }
 ],
 "metadata": {
  "kernelspec": {
   "display_name": "Python 3 (ipykernel)",
   "language": "python",
   "name": "python3"
  },
  "language_info": {
   "codemirror_mode": {
    "name": "ipython",
    "version": 3
   },
   "file_extension": ".py",
   "mimetype": "text/x-python",
   "name": "python",
   "nbconvert_exporter": "python",
   "pygments_lexer": "ipython3",
   "version": "3.10.12"
  }
 },
 "nbformat": 4,
 "nbformat_minor": 5
}
