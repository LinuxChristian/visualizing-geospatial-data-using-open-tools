{
 "cells": [
  {
   "cell_type": "markdown",
   "id": "8df93412",
   "metadata": {},
   "source": [
    "# Read and process AIS data\n",
    "\n",
    "- Read AIS (ship location) data from the Danish costguard\n",
    "- See ship traffic for a day\n",
    "- Locate any ships sailing into the area between the offshore turbines"
   ]
  },
  {
   "cell_type": "code",
   "execution_count": null,
   "id": "66aaa6b0",
   "metadata": {},
   "outputs": [],
   "source": [
    "# Standard library\n",
    "from pathlib import Path\n",
    "import zipfile\n",
    "\n",
    "# Data analysis\n",
    "import pandas as pd\n",
    "\n",
    "# Geospatial libraries\n",
    "import geopandas as gpd\n",
    "import pydeck as pdk\n"
   ]
  },
  {
   "cell_type": "code",
   "execution_count": null,
   "id": "5ff8c4df",
   "metadata": {},
   "outputs": [],
   "source": [
    "if not Path(\"aisdk-2023-01.zip\").exists():\n",
    "    raise Exception(\"Unable to find AIS data. Please download it from http://web.ais.dk/aisdata/\")"
   ]
  },
  {
   "cell_type": "code",
   "execution_count": null,
   "id": "4b32fbe1",
   "metadata": {},
   "outputs": [],
   "source": [
    "# Read all ship location information and track first and last position of each day\n",
    "with zipfile.ZipFile(\"aisdk-2023-01.zip\") as z:\n",
    "    # Load only the first day\n",
    "    with z.open(\"aisdk-2023-01-01.csv\") as f:\n",
    "        ships = pd.read_csv(f)"
   ]
  },
  {
   "cell_type": "code",
   "execution_count": null,
   "id": "2e0f9b55",
   "metadata": {},
   "outputs": [],
   "source": [
    "# Remove ships that don't transmit a callsign\n",
    "ships.dropna(subset=('Callsign'), inplace=True)\n",
    "\n",
    "# Clean up raw data\n",
    "ships.sort_values(by=['Callsign', '# Timestamp'], inplace=True)"
   ]
  },
  {
   "cell_type": "code",
   "execution_count": null,
   "id": "2589e204",
   "metadata": {},
   "outputs": [],
   "source": [
    "# Join all GPS points to a single line for all ships\n",
    "ship_track = []\n",
    "for g in ships.groupby('Callsign')[['Longitude', 'Latitude']]:\n",
    "    path = g[1]\n",
    "    path = path.loc[path['Latitude'] < 70, :]\n",
    "    path = path.to_numpy()[::10].tolist()\n",
    "    if len(path) > 10 and g[0] != \"0\":\n",
    "        ship_track.append({\"Callsign\": str(g[0]), 'path': path})\n",
    "    \n",
    "df_ship_track = pd.DataFrame.from_dict(ship_track)"
   ]
  },
  {
   "cell_type": "code",
   "execution_count": null,
   "id": "328ddf20",
   "metadata": {},
   "outputs": [],
   "source": [
    "# Load wind turbine offshore locations\n",
    "json = pd.read_json('../../NoCode/data/dk_offshore_sites.geojson')\n",
    "sites = pd.DataFrame()\n",
    "\n",
    "# Parse the geometry out in Pandas\n",
    "sites[\"coordinates\"] = json[\"features\"].apply(lambda row: row[\"geometry\"][\"coordinates\"])"
   ]
  },
  {
   "cell_type": "code",
   "execution_count": null,
   "id": "2eec66ab",
   "metadata": {},
   "outputs": [],
   "source": [
    "# Make map\n",
    "view_state = pdk.ViewState(latitude=55.782556, longitude=11.3484867, zoom=5)\n",
    "\n",
    "# Draw ship routes as paths\n",
    "layer = pdk.Layer(\n",
    "    type=\"PathLayer\",\n",
    "    data=df_ship_track,\n",
    "    pickable=True,\n",
    "    width_scale=20,\n",
    "    get_color=(255,255,255),\n",
    "    width_min_pixels=2,\n",
    "    get_path=\"path\",\n",
    "    get_width=5,\n",
    ")\n",
    "\n",
    "# Draw turbine locations as polygons\n",
    "layer_turbines = pdk.Layer(\n",
    "    type=\"PolygonLayer\",\n",
    "    data=sites,\n",
    "    pickable=True,\n",
    "    get_fill_color=[178,34,34],\n",
    "    get_line_color=[255, 255, 255],\n",
    "    get_polygon=\"coordinates\",\n",
    "    opacity=0.8,\n",
    "    auto_highlight=True,\n",
    ")\n",
    "\n",
    "r = pdk.Deck(layers=[layer, layer_turbines], initial_view_state=view_state, tooltip={\"text\": \"{Callsign}\"})\n",
    "r.to_html(\"path_layer.html\")"
   ]
  },
  {
   "cell_type": "markdown",
   "id": "8a1733eb",
   "metadata": {},
   "source": [
    "## Extract only ships that sail in between the turbines and draw their port of origin and destination"
   ]
  },
  {
   "cell_type": "code",
   "execution_count": null,
   "id": "88174c0a",
   "metadata": {},
   "outputs": [],
   "source": [
    "# Load both ship locations and wind locations as native spatial types\n",
    "geo_sites = gpd.read_file(\"../../NoCode/data/dk_offshore_sites.geojson\")\n",
    "geo_ships = gpd.GeoDataFrame(ships, geometry=gpd.points_from_xy(ships.Longitude, ships.Latitude), crs=\"EPSG:4326\")"
   ]
  },
  {
   "cell_type": "code",
   "execution_count": null,
   "id": "129fd9e9",
   "metadata": {},
   "outputs": [],
   "source": [
    "# Find all ship locations within the wind parks\n",
    "points_within_site = geo_sites.sjoin(geo_ships, how='left').dropna(subset='MMSI')"
   ]
  },
  {
   "cell_type": "code",
   "execution_count": null,
   "id": "09d1c2d6",
   "metadata": {},
   "outputs": [],
   "source": [
    "# Make map\n",
    "view_state = pdk.ViewState(latitude=55.782556, longitude=11.3484867, zoom=5)\n",
    "\n",
    "# Draw ship routes as paths\n",
    "layers = [\n",
    "    pdk.Layer(\n",
    "        \"ScatterplotLayer\",\n",
    "        data=points_within_site,\n",
    "        get_position=['Longitude', 'Latitude'],\n",
    "        auto_highlight=True,\n",
    "        get_radius=300,          # Radius is given in meters\n",
    "        get_fill_color=[180, 0, 200, 140],  # Set an RGBA value for fill\n",
    "        pickable=True\n",
    "    )\n",
    "]\n",
    "\n",
    "r = pdk.Deck(layers=layers, initial_view_state=view_state, tooltip={\"text\": \"{Callsign}\"})\n",
    "r.to_html(\"path_layer.html\")"
   ]
  },
  {
   "cell_type": "code",
   "execution_count": null,
   "id": "dc2c9982",
   "metadata": {},
   "outputs": [],
   "source": []
  }
 ],
 "metadata": {
  "kernelspec": {
   "display_name": "Python 3 (ipykernel)",
   "language": "python",
   "name": "python3"
  },
  "language_info": {
   "codemirror_mode": {
    "name": "ipython",
    "version": 3
   },
   "file_extension": ".py",
   "mimetype": "text/x-python",
   "name": "python",
   "nbconvert_exporter": "python",
   "pygments_lexer": "ipython3",
   "version": "3.10.12"
  }
 },
 "nbformat": 4,
 "nbformat_minor": 5
}
